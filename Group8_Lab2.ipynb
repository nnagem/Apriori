{
 "cells": [
  {
   "cell_type": "markdown",
   "id": "5bd9f231",
   "metadata": {},
   "source": [
    "# Group 8"
   ]
  },
  {
   "cell_type": "markdown",
   "id": "78156d33",
   "metadata": {},
   "source": [
    "Group Members:\n",
    "Anas Ismail\n",
    "Rutuja Kadam\n",
    "Megan Hutchinson"
   ]
  },
  {
   "cell_type": "code",
   "execution_count": 1,
   "id": "0060630f",
   "metadata": {},
   "outputs": [
    {
     "ename": "ModuleNotFoundError",
     "evalue": "No module named 'mlxtend'",
     "output_type": "error",
     "traceback": [
      "\u001b[1;31m---------------------------------------------------------------------------\u001b[0m",
      "\u001b[1;31mModuleNotFoundError\u001b[0m                       Traceback (most recent call last)",
      "Cell \u001b[1;32mIn[1], line 7\u001b[0m\n\u001b[0;32m      5\u001b[0m \u001b[38;5;28;01mimport\u001b[39;00m \u001b[38;5;21;01mpandas\u001b[39;00m \u001b[38;5;28;01mas\u001b[39;00m \u001b[38;5;21;01mpd\u001b[39;00m\n\u001b[0;32m      6\u001b[0m \u001b[38;5;28;01mimport\u001b[39;00m \u001b[38;5;21;01mmatplotlib\u001b[39;00m\u001b[38;5;21;01m.\u001b[39;00m\u001b[38;5;21;01mpylab\u001b[39;00m \u001b[38;5;28;01mas\u001b[39;00m \u001b[38;5;21;01mplt\u001b[39;00m\n\u001b[1;32m----> 7\u001b[0m \u001b[38;5;28;01mfrom\u001b[39;00m \u001b[38;5;21;01mmlxtend\u001b[39;00m\u001b[38;5;21;01m.\u001b[39;00m\u001b[38;5;21;01mfrequent_patterns\u001b[39;00m \u001b[38;5;28;01mimport\u001b[39;00m apriori\n\u001b[0;32m      8\u001b[0m \u001b[38;5;28;01mfrom\u001b[39;00m \u001b[38;5;21;01mmlxtend\u001b[39;00m\u001b[38;5;21;01m.\u001b[39;00m\u001b[38;5;21;01mfrequent_patterns\u001b[39;00m \u001b[38;5;28;01mimport\u001b[39;00m association_rules\n",
      "\u001b[1;31mModuleNotFoundError\u001b[0m: No module named 'mlxtend'"
     ]
    }
   ],
   "source": [
    "#Import libraries\n",
    "from pathlib import Path\n",
    "import heapq\n",
    "from collections import defaultdict\n",
    "import pandas as pd\n",
    "import matplotlib.pylab as plt\n",
    "from mlxtend.frequent_patterns import apriori\n",
    "from mlxtend.frequent_patterns import association_rules"
   ]
  },
  {
   "cell_type": "code",
   "execution_count": null,
   "id": "0614c77f",
   "metadata": {
    "scrolled": true
   },
   "outputs": [],
   "source": [
    "#Store data in dataframe\n",
    "fp_df = pd.read_excel('Table 01.xlsx')\n",
    "fp_df.set_index('Trns. #', inplace=True)\n",
    "fp_df\n",
    "\n",
    "#Make copy of datafram for other iterations\n",
    "cos_df1 = fp_df.copy()\n",
    "cos_df2 = fp_df.copy()"
   ]
  },
  {
   "cell_type": "code",
   "execution_count": null,
   "id": "153deb1d",
   "metadata": {
    "scrolled": true
   },
   "outputs": [],
   "source": [
    "#Create frequenct itemsets\n",
    "itemsets = apriori(fp_df, min_support=0.4, use_colnames=True)\n",
    "itemsets"
   ]
  },
  {
   "cell_type": "code",
   "execution_count": null,
   "id": "6158d4df",
   "metadata": {
    "scrolled": true
   },
   "outputs": [],
   "source": [
    "#Convert into rules\n",
    "rules = association_rules(itemsets, metric='confidence', min_threshold=0.5)\n",
    "rules.sort_values(by=['lift'], ascending=False).head()\n",
    "\n",
    "print(rules.sort_values(by=['lift'], ascending=False)\n",
    "      .drop(columns=['antecedent support', 'consequent support', 'conviction']).head())"
   ]
  },
  {
   "cell_type": "code",
   "execution_count": null,
   "id": "fd2eb6f0",
   "metadata": {
    "scrolled": true
   },
   "outputs": [],
   "source": [
    "#Displays rules that meet the criteria sorted by lift value\n",
    "rules[[len(c)== 1 for c in rules.consequents]].sort_values(by=['lift'],\n",
    "                                                          ascending= False).head()"
   ]
  },
  {
   "cell_type": "code",
   "execution_count": null,
   "id": "778b186a",
   "metadata": {},
   "outputs": [],
   "source": [
    "#Create frequenct itemsets\n",
    "itemsets1 = apriori(cos_df1, min_support=0.2, use_colnames=True)\n",
    "itemsets1"
   ]
  },
  {
   "cell_type": "code",
   "execution_count": null,
   "id": "97feb7ad",
   "metadata": {},
   "outputs": [],
   "source": [
    "#Convert into rules\n",
    "rules1 = association_rules(itemsets1, metric='confidence', min_threshold=0.6)\n",
    "rules1.sort_values(by=['lift'], ascending=False).head()\n",
    "\n",
    "print(rules.sort_values(by=['lift'], ascending=False)\n",
    "      .drop(columns=['antecedent support', 'consequent support', 'conviction']).head())"
   ]
  },
  {
   "cell_type": "code",
   "execution_count": null,
   "id": "6bedc750",
   "metadata": {},
   "outputs": [],
   "source": [
    "#Displays rules that meet the criteria sorted by lift value\n",
    "rules1[[len(c)== 1 for c in rules1.consequents]].sort_values(by=['lift'],\n",
    "                                                          ascending= False).head()"
   ]
  },
  {
   "cell_type": "code",
   "execution_count": null,
   "id": "b99a456e",
   "metadata": {},
   "outputs": [],
   "source": [
    "#Create frequenct itemsets\n",
    "itemsets2 = apriori(cos_df2, min_support=0.3, use_colnames=True)\n",
    "itemsets2"
   ]
  },
  {
   "cell_type": "code",
   "execution_count": null,
   "id": "db03948a",
   "metadata": {},
   "outputs": [],
   "source": [
    "#Convert into rules\n",
    "rules2 = association_rules(itemsets2, metric='confidence', min_threshold=0.7)\n",
    "rules2.sort_values(by=['lift'], ascending=False).head()\n",
    "\n",
    "print(rules2.sort_values(by=['lift'], ascending=False)\n",
    "      .drop(columns=['antecedent support', 'consequent support', 'conviction']).head())"
   ]
  },
  {
   "cell_type": "code",
   "execution_count": null,
   "id": "07c78e18",
   "metadata": {
    "scrolled": true
   },
   "outputs": [],
   "source": [
    "#Displays rules that meet the criteria sorted by lift value\n",
    "rules2[[len(c)== 1 for c in rules2.consequents]].sort_values(by=['lift'],\n",
    "                                                          ascending= False).head()"
   ]
  },
  {
   "cell_type": "markdown",
   "id": "f98f016a",
   "metadata": {},
   "source": [
    "Decision:\n",
    "\n",
    "Multiple iterations were done using a range of minimum support and confidence values. In the first iteration, a support value of 0.4 and a confidence level of 0.5 were used. This yielded the highest lift value of 1.5 with a 100% certainty that people who purchase brushes also purchase nail polish with a conviction of infinite. The same was also found with folks who purchase brushes and bronzer also buy nail polish, with a lift of 1.5 and a conviction of infinite.\n",
    "\n",
    "However, when the minimum support value and confidence levels were changed to 0.2 and 0.6 respectively, the highest lift value of 2 was obtained. It was derived that when Nail polish and blush are purchased together, brushes are best suited to be added and have a conviction level of infinite. Therefore, we would implement these two values as are minimum support and confidence levels to best solve the problem that is faced and to help with the promotion of cross-sales."
   ]
  }
 ],
 "metadata": {
  "kernelspec": {
   "display_name": "Python 3 (ipykernel)",
   "language": "python",
   "name": "python3"
  },
  "language_info": {
   "codemirror_mode": {
    "name": "ipython",
    "version": 3
   },
   "file_extension": ".py",
   "mimetype": "text/x-python",
   "name": "python",
   "nbconvert_exporter": "python",
   "pygments_lexer": "ipython3",
   "version": "3.10.9"
  }
 },
 "nbformat": 4,
 "nbformat_minor": 5
}
